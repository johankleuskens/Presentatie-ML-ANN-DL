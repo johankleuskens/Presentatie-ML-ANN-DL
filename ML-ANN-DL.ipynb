{
 "cells": [
  {
   "cell_type": "markdown",
   "metadata": {
    "slideshow": {
     "slide_type": "slide"
    }
   },
   "source": [
    "<center><font size=\"+3\">Machine Learning - Neural Networks - Deep Learning</font></center>\n",
    "\n",
    "https://www.techemergence.com/what-is-machine-learning/\n",
    "\n",
    "\n",
    "-    “Machine Learning at its most basic is the practice of using algorithms to parse data, learn from it, and then make a determination or prediction about something in the world.” – Nvidia \n",
    "-    <span style=\"color:blue\">“Machine learning is the science of getting computers to act without being explicitly programmed.” – Stanford</span>\n",
    "-    <span style=\"color:blue\">“Machine learning is based on algorithms that can learn from data without relying on rules-based programming.”- McKinsey & Co.</span>\n",
    "-    “Machine learning algorithms can figure out how to perform important tasks by generalizing from examples.” – University of Washington\n",
    "-    “The field of Machine Learning seeks to answer the question “How can we build computer systems that automatically improve with experience, and what are the fundamental laws that govern all learning processes?” – Carnegie Mellon University\n"
   ]
  },
  {
   "cell_type": "code",
   "execution_count": 12,
   "metadata": {
    "slideshow": {
     "slide_type": "subslide"
    }
   },
   "outputs": [
    {
     "data": {
      "text/plain": [
       "<matplotlib.figure.Figure at 0x7f23d5d00278>"
      ]
     },
     "metadata": {},
     "output_type": "display_data"
    }
   ],
   "source": [
    "import numpy as np\n",
    "import matplotlib\n",
    "import matplotlib.pyplot as plt\n",
    "\n",
    "plt.rcParams[\"figure.figsize\"] = (20,10)\n",
    "\n",
    "X = 2 * np.random.rand(100,1)\n",
    "y = 4 + 3 * X + np.random.randn(100,1)\n",
    "X_b = np.c_[np.ones((100 ,1)), X]\n",
    "\n",
    "plt.title('y = 3 * x + 4 + noise')\n",
    "plt.plot(X,y,\"b.\")\n",
    "plt.axis([0,2,0,15])\n",
    "plt.show()"
   ]
  },
  {
   "cell_type": "markdown",
   "metadata": {
    "slideshow": {
     "slide_type": "slide"
    }
   },
   "source": [
    "<center><font size=\"+3\">Linear Regression:</font></center></br>\n",
    "- Probeer een rechte lijn te vinden die het \"beste\" past, dus het minste afwijkt (\"lowest costs\"). \n",
    "- \"Cost\"-functie is MSE (Mean Square Error) : MSE(X, h<sub>&theta;</sub>) = $\\frac{1}{m}\\displaystyle\\sum_{i=1}^{m}$(&theta;<sup>T</sup> $\\cdot$  x<sup>(i)</sup> - y<sup>(i)</sup>)<sup>2</sup>\n",
    "- Cost functie is een convex functie, dus &#233;&#233;n minimum!\n",
    "- Exact te berekenen via de \"Normaal Vergelijkingen\"\n",
    "- &theta; = (X<sup>T</sup> * X)<sup>-1</sup> * X<sup>T</sup> * y\n",
    "- Matrix inversie van een n x n matrix is een \"dure\" operatie: 2*n<sup>3</sup>/3 operaties."
   ]
  },
  {
   "cell_type": "code",
   "execution_count": 13,
   "metadata": {
    "scrolled": true,
    "slideshow": {
     "slide_type": "slide"
    }
   },
   "outputs": [
    {
     "name": "stdout",
     "output_type": "stream",
     "text": [
      "[[ 3.98042037]\n",
      " [ 3.04743017]]\n"
     ]
    },
    {
     "data": {
      "image/png": "[encoded data removed]",
      "text/plain": [
       "<matplotlib.figure.Figure at 0x7f239fe990b8>"
      ]
     },
     "metadata": {},
     "output_type": "display_data"
    }
   ],
   "source": [
    "#Calculate Normal Equation\n",
    "theta_norm = np.linalg.inv(X_b.T.dot(X_b)).dot(X_b.T).dot(y)\n",
    "print(str(theta_norm))\n",
    "\n",
    "#Make predictions\n",
    "X_new_norm = np.array([[0], [2]])\n",
    "X_new_norm_b = np.c_[np.ones((2,1)), X_new_norm]\n",
    "y_pred_norm = X_new_norm_b.dot(theta_norm)\n",
    "\n",
    "plt.title('Normal Equation')\n",
    "plt.plot(X,y,\"b.\")\n",
    "plt.plot(X_new_norm, y_pred_norm, \"r-\")\n",
    "plt.axis([0,2,0,15])\n",
    "plt.show()"
   ]
  },
  {
   "cell_type": "markdown",
   "metadata": {},
   "source": [
    "<center><font size=\"+3\">Gradient Descent</font></center></br>\n",
    "- Gebruik afgeleide van de cost functie om het minimum van de cost-functie te vinden\n",
    "- MSE is convex, dus geen meogelijkheid om te blijven hangen in lokale minima\n",
    "- Is veelal \"goedkoper\" dan Normaal Vergelijkingen.\n",
    "- Belangrijke parameter is de \"step size\" \n",
    "- MSE Cost functie: MSE(X, h<sub>&theta;</sub>) = $\\frac{1}{m}\\displaystyle\\sum_{i=1}^{m}$(&theta;<sup>T</sup> $\\cdot$  x<sup>(i)</sup> - y<sup>(i)</sup>)<sup>2</sup>\n",
    "- Afgeleide van de Cost functie: $\\frac{\\partial Cost}{\\partial \\theta_{j}}$ = $\\frac{2}{m}\\displaystyle\\sum_{i=1}^{m}$(&theta;<sup>T</sup> $\\cdot$  x<sup>(i)</sup> - y<sup>(i)</sup>) $\\cdot$ x<sub>j</sub><sup>(i)</sup>\n",
    "- &theta;<sub>new</sub> = &theta;<sub>old</sub> - &alpha; * $\\frac{\\partial Cost}{\\partial \\theta_{j}}$\n"
   ]
  },
  {
   "cell_type": "markdown",
   "metadata": {
    "slideshow": {
     "slide_type": "slide"
    }
   },
   "source": [
    "![Gradient Descent](images/ball.png?raw=true)\n",
    "<font size=\"+2\">&theta;<sub>new</sub> = &theta;<sub>old</sub> - &alpha; * dCost/d&theta;</font>\n",
    "\n"
   ]
  },
  {
   "cell_type": "markdown",
   "metadata": {
    "slideshow": {
     "slide_type": "slide"
    }
   },
   "source": [
    "![Learning rate](images/learning-rate.jpg?raw=true)\n",
    "<font size=\"+2\">&theta;<sub>new</sub> = &theta;<sub>old</sub> - &alpha; * dCost/d&theta;</font>\n"
   ]
  },
  {
   "cell_type": "code",
   "execution_count": 14,
   "metadata": {
    "slideshow": {
     "slide_type": "fragment"
    }
   },
   "outputs": [
    {
     "name": "stdout",
     "output_type": "stream",
     "text": [
      "[[ 3.98042037]\n",
      " [ 3.04743017]]\n"
     ]
    },
    {
     "data": {
      "image/png": "[encoded data removed]",
      "text/plain": [
       "<matplotlib.figure.Figure at 0x7f239bf01b38>"
      ]
     },
     "metadata": {},
     "output_type": "display_data"
    }
   ],
   "source": [
    "# Do a gradient descent\n",
    "eta =0.1\n",
    "n_iterations = 1000\n",
    "m = 100\n",
    "\n",
    "theta_grad = np.random.rand(2,1)\n",
    "\n",
    "for iteration in range(n_iterations):\n",
    "    gradients = 2/m * X_b.T.dot(X_b.dot(theta_grad) - y)\n",
    "    theta_grad = theta_grad - eta * gradients\n",
    "    \n",
    "print(str(theta_grad))    \n",
    "# Make prediction     \n",
    "X_new_grad = np.array([[0], [2]])\n",
    "X_new_grad_b = np.c_[np.ones((2,1)), X_new_grad]\n",
    "y_pred_grad = X_new_grad_b.dot(theta_grad)\n",
    "\n",
    "\n",
    "plt.title('Gradient Descent')\n",
    "plt.plot(X,y,\"b.\")\n",
    "plt.plot(X_new_grad, y_pred_grad, \"y-\")\n",
    "plt.axis([0,2,0,15])\n",
    "plt.show()"
   ]
  },
  {
   "cell_type": "markdown",
   "metadata": {
    "slideshow": {
     "slide_type": "slide"
    }
   },
   "source": [
    "\n",
    "<center><font size=\"+3\">Polynomial Regression:</font></center></br>\n",
    "    - Voeg machten van features toe als nieuwe features\n",
    "    - Train als een lineair model via Linear Regression\n",
    "    - Op deze manier zijn zeer complexe functies mogelijk\n",
    "   "
   ]
  },
  {
   "cell_type": "code",
   "execution_count": 15,
   "metadata": {},
   "outputs": [
    {
     "data": {
      "image/png": "[encoded data removed]",
      "text/plain": [
       "<matplotlib.figure.Figure at 0x7f239bf37ba8>"
      ]
     },
     "metadata": {},
     "output_type": "display_data"
    }
   ],
   "source": [
    "m = 100\n",
    "X_poly = 6 * np.random.rand(m , 1) - 3\n",
    "y_poly = 0.5 * X_poly ** 2 + X_poly + 2 + np.random.randn(m, 1)\n",
    "\n",
    "plt.title('Nonlinear data')\n",
    "plt.plot(X_poly,y_poly,\"b.\")\n",
    "plt.axis([-3,3,0,10])\n",
    "plt.show()\n"
   ]
  },
  {
   "cell_type": "code",
   "execution_count": 16,
   "metadata": {},
   "outputs": [
    {
     "name": "stdout",
     "output_type": "stream",
     "text": [
      "X_poly[0] = [ 2.31731688]\n",
      "X_extra_feat[0] = [ 2.31731688  5.3699575 ]\n"
     ]
    }
   ],
   "source": [
    "from sklearn.preprocessing import PolynomialFeatures\n",
    "# Create extra features\n",
    "poly_features = PolynomialFeatures(degree = 2, include_bias = False)\n",
    "X_extra_feat = poly_features.fit_transform(X_poly)\n",
    "print(\"X_poly[0] = \" + str(X_poly[0]))\n",
    "print(\"X_extra_feat[0] = \" + str(X_extra_feat[0]))\n",
    "\n"
   ]
  },
  {
   "cell_type": "code",
   "execution_count": 17,
   "metadata": {},
   "outputs": [
    {
     "data": {
      "text/plain": [
       "(array([ 1.81718959]), array([[ 1.0677005 ,  0.51497974]]))"
      ]
     },
     "execution_count": 17,
     "metadata": {},
     "output_type": "execute_result"
    }
   ],
   "source": [
    "from sklearn.linear_model import LinearRegression\n",
    "# Fit the model\n",
    "lin_reg = LinearRegression()\n",
    "lin_reg.fit(X_extra_feat, y_poly)\n",
    "lin_reg.intercept_, lin_reg.coef_"
   ]
  },
  {
   "cell_type": "code",
   "execution_count": 18,
   "metadata": {},
   "outputs": [
    {
     "data": {
      "image/png": "[encoded data removed]",
      "text/plain": [
       "<matplotlib.figure.Figure at 0x7f23998d4978>"
      ]
     },
     "metadata": {},
     "output_type": "display_data"
    }
   ],
   "source": [
    "# Create a test set and show results\n",
    "X_new=np.linspace(-3, 3, 100).reshape(100, 1)\n",
    "X_new_poly = poly_features.transform(X_new)\n",
    "y_new = lin_reg.predict(X_new_poly)\n",
    "plt.plot(X_poly, y_poly, \"b.\")\n",
    "plt.plot(X_new, y_new, \"r-\", linewidth=2, label=\"Predictions\")\n",
    "plt.xlabel(\"$x_1$\", fontsize=18)\n",
    "plt.ylabel(\"$y$\", rotation=0, fontsize=18)\n",
    "plt.legend(loc=\"upper left\", fontsize=14)\n",
    "plt.axis([-3, 3, 0, 10])\n",
    "plt.show()"
   ]
  },
  {
   "cell_type": "code",
   "execution_count": 19,
   "metadata": {},
   "outputs": [
    {
     "data": {
      "image/png": "[encoded data removed]",
      "text/plain": [
       "<matplotlib.figure.Figure at 0x7f23998980f0>"
      ]
     },
     "metadata": {},
     "output_type": "display_data"
    }
   ],
   "source": [
    "from sklearn.preprocessing import StandardScaler\n",
    "from sklearn.pipeline import Pipeline\n",
    "\n",
    "for style, width, degree in ((\"g-\", 1, 300), (\"b--\", 2, 2), (\"r-+\", 2, 1)):\n",
    "    polybig_features = PolynomialFeatures(degree=degree, include_bias=False)\n",
    "    std_scaler = StandardScaler()\n",
    "    lin_reg = LinearRegression()\n",
    "    polynomial_regression = Pipeline([\n",
    "            (\"poly_features\", polybig_features),\n",
    "            (\"std_scaler\", std_scaler),\n",
    "            (\"lin_reg\", lin_reg),\n",
    "        ])\n",
    "    polynomial_regression.fit(X_poly, y_poly)\n",
    "    y_newbig = polynomial_regression.predict(X_new)\n",
    "    plt.plot(X_new, y_newbig, style, label=str(degree), linewidth=width)\n",
    "\n",
    "\n",
    "plt.plot(X_poly, y_poly, \"b.\", linewidth=3)\n",
    "plt.legend(loc=\"upper left\")\n",
    "plt.xlabel(\"$x_1$\", fontsize=18)\n",
    "plt.ylabel(\"$y$\", rotation=0, fontsize=18)\n",
    "plt.axis([-3, 3, 0, 10])\n",
    "plt.show()"
   ]
  },
  {
   "cell_type": "markdown",
   "metadata": {
    "slideshow": {
     "slide_type": "slide"
    }
   },
   "source": [
    "<center><font size=\"+3\">Over and Under fitting</font></center></br>\n",
    "- Performance testen op trainingsset geeft lage fout maar testen op testset geeft hoge fout -> Over fitting (high variance) -> Regularization\n",
    "- Performance testen op trainingsset en testen op testset geeft hoge fout -> Under fitting (high bias) -> meer data, model complexer maken (hogere polynomen)\n",
    " "
   ]
  },
  {
   "cell_type": "markdown",
   "metadata": {
    "slideshow": {
     "slide_type": "slide"
    }
   },
   "source": [
    "<center><font size=\"+3\">Logistic  Regression:</font></center></br>\n",
    "- I.p.v directe uitvoer van waarde, deze door de \"logistic\"-functie halen (sigmoid-functie)\n",
    "- Op deze manier wordt een binaire classificator gemaakt\n",
    "- Geeft kans dat instantie tot een klasse behoort ( p > 0.5 )\n",
    "- Aangepaste cost-functie en afgeleide hiervan\n",
    "    \n",
    "![Sigmoid function](images/sigmoid.gif?raw=true)\n",
    "<br><hr><br>\n",
    "<center><font size=\"+3\">Softmax Regression:</font></center></br>\n",
    "- Softmax is een generalisatie van een aantal Logistic Regression units.\n",
    "- \"One versus all\"-classificatie  \n",
    "- Aangepaste cost-functie en afgeleide hiervan\n",
    "\n",
    "![Sigmoid function](images/softmax.png?raw=true)\n",
    "\n"
   ]
  },
  {
   "cell_type": "code",
   "execution_count": 18,
   "metadata": {},
   "outputs": [
    {
     "name": "stdout",
     "output_type": "stream",
     "text": [
      "Image Data Shape (1797, 64)\n",
      "Label Data Shape (1797,)\n"
     ]
    },
    {
     "data": {
      "image/png": "[encoded data removed]",
      "text/plain": [
       "<matplotlib.figure.Figure at 0x7f0a2f03eef0>"
      ]
     },
     "metadata": {},
     "output_type": "display_data"
    }
   ],
   "source": [
    "\n",
    "\n",
    "from sklearn.datasets import load_digits\n",
    "digits = load_digits()\n",
    "\n",
    "# Print to show there are 1797 images (8 by 8 images for a dimensionality of 64)\n",
    "#print(“Image Data Shape” , digits.data.shape)\n",
    "print(\"Image Data Shape\", digits.data.shape)\n",
    "\n",
    "# Print to show there are 1797 labels (integers from 0–9)\n",
    "print(\"Label Data Shape\", digits.target.shape)\n",
    "\n",
    "plt.figure(figsize=(20,4))\n",
    "for index, (image, label) in enumerate(zip(digits.data[0:5], digits.target[0:5])):\n",
    "    plt.subplot(1, 5, index + 1)\n",
    "    plt.imshow(np.reshape(image, (8,8)), cmap=plt.cm.gray)\n",
    "    plt.title('Training: %i\\n' % label, fontsize = 20)\n",
    "    \n",
    "from sklearn.model_selection import train_test_split\n",
    "x_train, x_test, y_train, y_test = train_test_split(digits.data, digits.target, test_size=0.25, random_state=0)\n"
   ]
  },
  {
   "cell_type": "code",
   "execution_count": 20,
   "metadata": {},
   "outputs": [
    {
     "name": "stdout",
     "output_type": "stream",
     "text": [
      "0.953333333333\n"
     ]
    }
   ],
   "source": [
    "from sklearn.linear_model import LogisticRegression\n",
    "# all parameters not specified are set to their defaults\n",
    "logisticRegr = LogisticRegression()\n",
    "logisticRegr.fit(x_train, y_train)\n",
    "#predictions = logisticRegr.predict(x_test)\n",
    "# Use score method to get accuracy of model\n",
    "score = logisticRegr.score(x_test, y_test)\n",
    "print(score)\n",
    "    "
   ]
  },
  {
   "cell_type": "code",
   "execution_count": 15,
   "metadata": {
    "scrolled": false
   },
   "outputs": [
    {
     "data": {
      "text/html": [
       "<iframe width=\"560\" height=\"315\" src=\"https://www.youtube.com/embed/ilP4aPDTBPE\" frameborder=\"0\" allow=\"autoplay; encrypted-media\" allowfullscreen></iframe>"
      ],
      "text/plain": [
       "<IPython.core.display.HTML object>"
      ]
     },
     "execution_count": 15,
     "metadata": {},
     "output_type": "execute_result"
    }
   ],
   "source": [
    "from IPython.display import HTML\n",
    "\n",
    "HTML('<iframe width=\"560\" height=\"315\" src=\"https://www.youtube.com/embed/ilP4aPDTBPE\" frameborder=\"0\" allow=\"autoplay; encrypted-media\" allowfullscreen></iframe>')"
   ]
  },
  {
   "cell_type": "markdown",
   "metadata": {},
   "source": [
    "[Andrew Ng] A single neuron in the brain is an incredibly complex machine that even today we don’t understand. A single “neuron” in a neural network is an incredibly simple mathematical function that captures a minuscule fraction of the complexity of a biological neuron. So to say neural networks mimic the brain, that is true at the level of loose inspiration, but really artificial neural networks are nothing like what the biological brain does."
   ]
  }
 ],
 "metadata": {
  "celltoolbar": "Slideshow",
  "git version control": {
   "git": {
    "suppress_outputs": true
   }
  },
  "kernelspec": {
   "display_name": "Python 3",
   "language": "python",
   "name": "python3"
  },
  "language_info": {
   "codemirror_mode": {
    "name": "ipython",
    "version": 3
   },
   "file_extension": ".py",
   "mimetype": "text/x-python",
   "name": "python",
   "nbconvert_exporter": "python",
   "pygments_lexer": "ipython3",
   "version": "3.6.0"
  },
  "livereveal": {
   "header": "<h1 style='align:center'>Phact-2018</h1>",
   "theme": "serif",
   "transition": "zoom"
  }
 },
 "nbformat": 4,
 "nbformat_minor": 2
}
